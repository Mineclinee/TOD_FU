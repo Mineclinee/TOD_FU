{
 "cells": [
  {
   "cell_type": "markdown",
   "metadata": {},
   "source": [
    "# Работа с Excel"
   ]
  },
  {
   "cell_type": "markdown",
   "metadata": {},
   "source": [
    "Материалы:\n",
    "* Макрушин С.В. Лекция 7: Работа с Excel\n",
    "* https://docs.xlwings.org/en/stable/quickstart.html\n",
    "* https://nbviewer.jupyter.org/github/pybokeh/jupyter_notebooks/blob/master/xlwings/Excel_Formatting.ipynb#search_text\n"
   ]
  },
  {
   "cell_type": "markdown",
   "metadata": {},
   "source": [
    "## Задачи для совместного разбора"
   ]
  },
  {
   "cell_type": "markdown",
   "metadata": {},
   "source": [
    "1. На листе \"Рецептура\" файла `себестоимостьА_в1.xlsx` для области \"Пшеничный хлеб\" рассчитать себестоимость всех видов продукции."
   ]
  },
  {
   "cell_type": "code",
   "execution_count": 1,
   "metadata": {},
   "outputs": [],
   "source": [
    "import xlwings as xw\n",
    "import numpy as np"
   ]
  },
  {
   "cell_type": "code",
   "execution_count": 2,
   "metadata": {},
   "outputs": [],
   "source": [
    "wb = xw.Book(\"себестоимостьА_в1.xlsx\") "
   ]
  },
  {
   "cell_type": "code",
   "execution_count": 3,
   "metadata": {},
   "outputs": [],
   "source": [
    "sht = wb.sheets[\"Рецептура\"]"
   ]
  },
  {
   "cell_type": "code",
   "execution_count": 4,
   "metadata": {},
   "outputs": [
    {
     "data": {
      "text/plain": [
       "array([[0.2  , 0.4  , 0.02 , 0.02 , 0.01 , 0.005, 0.1  ,   nan,   nan],\n",
       "       [0.07 , 0.25 , 0.01 , 0.06 , 0.015,   nan, 0.06 , 0.05 ,   nan],\n",
       "       [0.12 , 0.22 , 0.005,   nan, 0.009, 0.005,   nan, 0.05 , 0.03 ],\n",
       "       [0.12 , 0.23 , 0.01 ,   nan, 0.015,   nan,   nan,   nan, 0.05 ]])"
      ]
     },
     "execution_count": 4,
     "metadata": {},
     "output_type": "execute_result"
    }
   ],
   "source": [
    "weight = sht.range(\"G7:O10\").options(np.array).value\n",
    "weight"
   ]
  },
  {
   "cell_type": "code",
   "execution_count": 5,
   "metadata": {},
   "outputs": [
    {
     "data": {
      "text/plain": [
       "array([  7.,  10., 184.,  19.,   7., 290., 105.,  83., 260.])"
      ]
     },
     "execution_count": 5,
     "metadata": {},
     "output_type": "execute_result"
    }
   ],
   "source": [
    "price = sht.range(\"G14:O14\").options(np.array).value\n",
    "price"
   ]
  },
  {
   "cell_type": "code",
   "execution_count": 6,
   "metadata": {},
   "outputs": [
    {
     "data": {
      "text/plain": [
       "array([21.48 , 16.525, 17.423, 18.085])"
      ]
     },
     "execution_count": 6,
     "metadata": {},
     "output_type": "execute_result"
    }
   ],
   "source": [
    "cost_price = np.nan_to_num(weight * price).sum(axis=1)\n",
    "cost_price"
   ]
  },
  {
   "cell_type": "markdown",
   "metadata": {},
   "source": [
    "2. Результаты расчетов 1.1 сохранить в отдельном столбце области \"Пшеничный хлеб\""
   ]
  },
  {
   "cell_type": "code",
   "execution_count": 7,
   "metadata": {},
   "outputs": [],
   "source": [
    "sht.range(\"T7:T10\").options(transpose=True).value = cost_price\n",
    "sht.range(\"T6\").value = \"Себестоимость\""
   ]
  },
  {
   "cell_type": "markdown",
   "metadata": {},
   "source": [
    "3. Приблизить форматирование столбца, добавленного в задаче 2 к оформлению всей области."
   ]
  },
  {
   "cell_type": "code",
   "execution_count": 8,
   "metadata": {},
   "outputs": [],
   "source": [
    "sht.range('T3').color = (255, 255, 0)\n",
    "\n",
    "for i in range(4, 7):\n",
    "    sht.range(f\"T{i}\").color = (255, 165, 0)\n",
    "    sht.range(f\"T{i}\").font.color = (255, 255, 255)\n",
    "    \n",
    "for i in range(7, 14):\n",
    "    sht.range(f\"T{i}\").color = (255, 255, 224)\n",
    "    sht.range(f\"T{i}\").api.Borders.Weight = 1"
   ]
  },
  {
   "cell_type": "markdown",
   "metadata": {},
   "source": [
    "4. Выполнить 3 с помощью \"протягиваемых\" формул."
   ]
  },
  {
   "cell_type": "markdown",
   "metadata": {},
   "source": [
    "## Лабораторная работа 7.1"
   ]
  },
  {
   "cell_type": "markdown",
   "metadata": {},
   "source": [
    "1. Загрузите данные из файлов `reviews_sample.csv` (__ЛР2__) и `recipes_sample.csv` (__ЛР5__) в виде `pd.DataFrame`. Обратите внимание на корректное считывание столбца(ов) с индексами. Оставьте в таблице с рецептами следующие столбцы: `id`, `name`, `minutes`, `submitted`, `description`, `n_ingredients`"
   ]
  },
  {
   "cell_type": "code",
   "execution_count": 9,
   "metadata": {},
   "outputs": [],
   "source": [
    "import pandas as pd"
   ]
  },
  {
   "cell_type": "code",
   "execution_count": 10,
   "metadata": {},
   "outputs": [
    {
     "data": {
      "text/html": [
       "<div>\n",
       "<style scoped>\n",
       "    .dataframe tbody tr th:only-of-type {\n",
       "        vertical-align: middle;\n",
       "    }\n",
       "\n",
       "    .dataframe tbody tr th {\n",
       "        vertical-align: top;\n",
       "    }\n",
       "\n",
       "    .dataframe thead th {\n",
       "        text-align: right;\n",
       "    }\n",
       "</style>\n",
       "<table border=\"1\" class=\"dataframe\">\n",
       "  <thead>\n",
       "    <tr style=\"text-align: right;\">\n",
       "      <th></th>\n",
       "      <th>user_id</th>\n",
       "      <th>recipe_id</th>\n",
       "      <th>date</th>\n",
       "      <th>rating</th>\n",
       "      <th>review</th>\n",
       "    </tr>\n",
       "  </thead>\n",
       "  <tbody>\n",
       "    <tr>\n",
       "      <th>370476</th>\n",
       "      <td>21752</td>\n",
       "      <td>57993</td>\n",
       "      <td>2003-05-01</td>\n",
       "      <td>5</td>\n",
       "      <td>Last week whole sides of frozen salmon fillet ...</td>\n",
       "    </tr>\n",
       "    <tr>\n",
       "      <th>624300</th>\n",
       "      <td>431813</td>\n",
       "      <td>142201</td>\n",
       "      <td>2007-09-16</td>\n",
       "      <td>5</td>\n",
       "      <td>So simple and so tasty!  I used a yellow capsi...</td>\n",
       "    </tr>\n",
       "    <tr>\n",
       "      <th>187037</th>\n",
       "      <td>400708</td>\n",
       "      <td>252013</td>\n",
       "      <td>2008-01-10</td>\n",
       "      <td>4</td>\n",
       "      <td>Very nice breakfast HH, easy to make and yummy...</td>\n",
       "    </tr>\n",
       "    <tr>\n",
       "      <th>706134</th>\n",
       "      <td>2001852463</td>\n",
       "      <td>404716</td>\n",
       "      <td>2017-12-11</td>\n",
       "      <td>5</td>\n",
       "      <td>These are a favorite for the holidays and so e...</td>\n",
       "    </tr>\n",
       "    <tr>\n",
       "      <th>312179</th>\n",
       "      <td>95810</td>\n",
       "      <td>129396</td>\n",
       "      <td>2008-03-14</td>\n",
       "      <td>5</td>\n",
       "      <td>Excellent soup!  The tomato flavor is just gre...</td>\n",
       "    </tr>\n",
       "  </tbody>\n",
       "</table>\n",
       "</div>"
      ],
      "text/plain": [
       "           user_id  recipe_id        date  rating  \\\n",
       "370476       21752      57993  2003-05-01       5   \n",
       "624300      431813     142201  2007-09-16       5   \n",
       "187037      400708     252013  2008-01-10       4   \n",
       "706134  2001852463     404716  2017-12-11       5   \n",
       "312179       95810     129396  2008-03-14       5   \n",
       "\n",
       "                                                   review  \n",
       "370476  Last week whole sides of frozen salmon fillet ...  \n",
       "624300  So simple and so tasty!  I used a yellow capsi...  \n",
       "187037  Very nice breakfast HH, easy to make and yummy...  \n",
       "706134  These are a favorite for the holidays and so e...  \n",
       "312179  Excellent soup!  The tomato flavor is just gre...  "
      ]
     },
     "execution_count": 10,
     "metadata": {},
     "output_type": "execute_result"
    }
   ],
   "source": [
    "reviews_df = pd.read_csv(\"reviews_sample.csv\", index_col=0)\n",
    "reviews_df.head()"
   ]
  },
  {
   "cell_type": "code",
   "execution_count": 11,
   "metadata": {},
   "outputs": [
    {
     "data": {
      "text/html": [
       "<div>\n",
       "<style scoped>\n",
       "    .dataframe tbody tr th:only-of-type {\n",
       "        vertical-align: middle;\n",
       "    }\n",
       "\n",
       "    .dataframe tbody tr th {\n",
       "        vertical-align: top;\n",
       "    }\n",
       "\n",
       "    .dataframe thead th {\n",
       "        text-align: right;\n",
       "    }\n",
       "</style>\n",
       "<table border=\"1\" class=\"dataframe\">\n",
       "  <thead>\n",
       "    <tr style=\"text-align: right;\">\n",
       "      <th></th>\n",
       "      <th>id</th>\n",
       "      <th>name</th>\n",
       "      <th>minutes</th>\n",
       "      <th>submitted</th>\n",
       "      <th>description</th>\n",
       "      <th>n_ingredients</th>\n",
       "    </tr>\n",
       "  </thead>\n",
       "  <tbody>\n",
       "    <tr>\n",
       "      <th>0</th>\n",
       "      <td>44123</td>\n",
       "      <td>george s at the cove  black bean soup</td>\n",
       "      <td>90</td>\n",
       "      <td>2002-10-25</td>\n",
       "      <td>an original recipe created by chef scott meska...</td>\n",
       "      <td>18.0</td>\n",
       "    </tr>\n",
       "    <tr>\n",
       "      <th>1</th>\n",
       "      <td>67664</td>\n",
       "      <td>healthy for them  yogurt popsicles</td>\n",
       "      <td>10</td>\n",
       "      <td>2003-07-26</td>\n",
       "      <td>my children and their friends ask for my homem...</td>\n",
       "      <td>NaN</td>\n",
       "    </tr>\n",
       "    <tr>\n",
       "      <th>2</th>\n",
       "      <td>38798</td>\n",
       "      <td>i can t believe it s spinach</td>\n",
       "      <td>30</td>\n",
       "      <td>2002-08-29</td>\n",
       "      <td>these were so go, it surprised even me.</td>\n",
       "      <td>8.0</td>\n",
       "    </tr>\n",
       "    <tr>\n",
       "      <th>3</th>\n",
       "      <td>35173</td>\n",
       "      <td>italian  gut busters</td>\n",
       "      <td>45</td>\n",
       "      <td>2002-07-27</td>\n",
       "      <td>my sister-in-law made these for us at a family...</td>\n",
       "      <td>NaN</td>\n",
       "    </tr>\n",
       "    <tr>\n",
       "      <th>4</th>\n",
       "      <td>84797</td>\n",
       "      <td>love is in the air  beef fondue   sauces</td>\n",
       "      <td>25</td>\n",
       "      <td>2004-02-23</td>\n",
       "      <td>i think a fondue is a very romantic casual din...</td>\n",
       "      <td>NaN</td>\n",
       "    </tr>\n",
       "  </tbody>\n",
       "</table>\n",
       "</div>"
      ],
      "text/plain": [
       "      id                                      name  minutes   submitted  \\\n",
       "0  44123     george s at the cove  black bean soup       90  2002-10-25   \n",
       "1  67664        healthy for them  yogurt popsicles       10  2003-07-26   \n",
       "2  38798              i can t believe it s spinach       30  2002-08-29   \n",
       "3  35173                      italian  gut busters       45  2002-07-27   \n",
       "4  84797  love is in the air  beef fondue   sauces       25  2004-02-23   \n",
       "\n",
       "                                         description  n_ingredients  \n",
       "0  an original recipe created by chef scott meska...           18.0  \n",
       "1  my children and their friends ask for my homem...            NaN  \n",
       "2            these were so go, it surprised even me.            8.0  \n",
       "3  my sister-in-law made these for us at a family...            NaN  \n",
       "4  i think a fondue is a very romantic casual din...            NaN  "
      ]
     },
     "execution_count": 11,
     "metadata": {},
     "output_type": "execute_result"
    }
   ],
   "source": [
    "recipes_df = pd.read_csv(\"recipes_sample.csv\")\n",
    "recipes_df = recipes_df[['id', 'name', 'minutes', 'submitted', 'description', 'n_ingredients']]\n",
    "recipes_df.head()"
   ]
  },
  {
   "cell_type": "markdown",
   "metadata": {},
   "source": [
    "2. Случайным образом выберите 5% строк из каждой таблицы и сохраните две таблицы на разные листы в один файл `recipes.xlsx`. Дайте листам названия \"Рецепты\" и \"Отзывы\", соответствующие содержанию таблиц. "
   ]
  },
  {
   "cell_type": "code",
   "execution_count": 12,
   "metadata": {},
   "outputs": [],
   "source": [
    "writer = pd.ExcelWriter(\"recipes.xlsx\")\n",
    "recipes = recipes_df.sample(frac = 0.05)\n",
    "recipes.to_excel(writer, sheet_name='Рецепты') "
   ]
  },
  {
   "cell_type": "code",
   "execution_count": 13,
   "metadata": {},
   "outputs": [],
   "source": [
    "reviews = reviews_df.sample(frac = 0.05)\n",
    "reviews.to_excel(writer, sheet_name='Отзывы') \n",
    "writer.save()"
   ]
  },
  {
   "cell_type": "markdown",
   "metadata": {},
   "source": [
    "3. Используя `xlwings`, добавьте на лист `Рецепты` столбец `seconds_assign`, показывающий время выполнения рецепта в секундах. Выполните задание при помощи присваивания массива значений диапазону ячеек."
   ]
  },
  {
   "cell_type": "code",
   "execution_count": 14,
   "metadata": {},
   "outputs": [],
   "source": [
    "wb = xw.Book(\"recipes.xlsx\")\n",
    "sht = wb.sheets[\"Рецепты\"]\n",
    "sht.range(\"H1\").value = \"seconds_assign\"\n",
    "sht.range(\"H2:H1501\").options(transpose=True).value = (recipes[\"minutes\"] * 60).to_numpy()"
   ]
  },
  {
   "cell_type": "markdown",
   "metadata": {},
   "source": [
    "4. Используя `xlwings`, добавьте на лист `Рецепты` столбец `seconds_formula`, показывающий время выполнения рецепта в секундах. Выполните задание при помощи формул Excel."
   ]
  },
  {
   "cell_type": "code",
   "execution_count": 15,
   "metadata": {},
   "outputs": [],
   "source": [
    "from xlwings.constants import AutoFillType\n",
    "\n",
    "sht.range(\"I1\").value = \"seconds_formula\"\n",
    "formula = '=60 * D2'\n",
    "sht.range('I2:I1501').formula = formula"
   ]
  },
  {
   "cell_type": "markdown",
   "metadata": {},
   "source": [
    "5. Сделайте названия всех добавленных столбцов полужирными и выровняйте по центру ячейки."
   ]
  },
  {
   "cell_type": "code",
   "execution_count": null,
   "metadata": {},
   "outputs": [],
   "source": [
    "sht['H1:J1'].api.horizontalalignment = xw.constants.HAlign.xlHAlignCenter\n",
    "sht.range('H1:I1').api.Font.Bold = True"
   ]
  },
  {
   "cell_type": "markdown",
   "metadata": {},
   "source": [
    "6. Раскрасьте ячейки столбца minutes в соответствии со следующим правилом: если рецепт выполняется быстрее 5 минут, то цвет - зеленый; от 5 до 10 минут - жёлтый; и больше 10 - красный."
   ]
  },
  {
   "cell_type": "code",
   "execution_count": 16,
   "metadata": {},
   "outputs": [],
   "source": [
    "values = sht.range(\"D2:D1501\").value\n",
    "\n",
    "for i in range(len(values)):\n",
    "    if values[i] <= 5:\n",
    "        sht.range(f\"D{i+2}\").color = (0, 255, 0)\n",
    "    elif 5 < values[i] <= 10:\n",
    "        sht.range(f\"D{i+2}\").color = (255, 255, 0)\n",
    "    else:\n",
    "        sht.range(f\"D{i+2}\").color =  (255, 0, 0)"
   ]
  },
  {
   "cell_type": "markdown",
   "metadata": {},
   "source": [
    "7. Добавьте на лист `Рецепты`  столбец `n_reviews`, содержащий кол-во отзывов для этого рецепта. Выполните задание при помощи формул Excel."
   ]
  },
  {
   "cell_type": "code",
   "execution_count": null,
   "metadata": {},
   "outputs": [],
   "source": [
    "sht.range(\"J1\").value = \"n_reviews\"\n",
    "sht.range('J1').api.Font.Bold = True\n",
    "\n",
    "n = str(len(reviews)+1)\n",
    "sht.range(\"J2\").formula = f'=COUNTIF(Отзывы!$C$2:$C${n}, \"=\"&B2)'\n",
    "sht.range('J2').api.autofill(type=AutoFillType.xlFillDefault, destination=sheet.range(\"J2:J1501\").api)"
   ]
  },
  {
   "cell_type": "markdown",
   "metadata": {},
   "source": [
    "## Лабораторная работа 7.2"
   ]
  },
  {
   "cell_type": "markdown",
   "metadata": {},
   "source": [
    "8. Напишите функцию `validate()`, которая проверяет соответствие всех строк из листа `Отзывы` следующим правилам:\n",
    "    * Рейтинг - это число от 0 до 5 включительно\n",
    "    * Соответствующий рецепт имеется на листе `Рецепты`\n",
    "    \n",
    "В случае несоответствия этим правилам, выделите строку красным цветом"
   ]
  },
  {
   "cell_type": "code",
   "execution_count": null,
   "metadata": {},
   "outputs": [],
   "source": [
    "reviews_sht = wb.sheets['Отзывы']\n",
    "\n",
    "def validate():\n",
    "    for i in range(len(reviews_sht.range('E2').expand('down').value)):\n",
    "        if not(xw.Range((i+2, 3)).value in sht.range('B2').expand('down').value and 0 <= xw.Range((i+2, 5)).value <= 5):\n",
    "            reviews_sht.range(f'A{i+2}').expand('right').color = (255, 0, 0)\n",
    "\n",
    "validate()\n",
    "def validate():\n",
    "    # Получаем данные из листов Рецепты и Отзывы\n",
    "    recipes_sht = wb.sheets['Рецепты']\n",
    "    reviews_sht = wb.sheets['Отзывы']\n",
    "    \n",
    "    # Получаем значения всех ячеек столбца рейтинга и соответствующих рецептов\n",
    "    ratings = reviews_sht.range('E2').expand('down').value\n",
    "    recipes = reviews_sht.range('C2').expand('down').value\n",
    "    \n",
    "    # Проверяем каждую строку на соответствие правилам\n",
    "    for i in range(len(ratings)):\n",
    "        # Проверяем, что рейтинг находится в диапазоне от 0 до 5\n",
    "        if not (0 <= ratings[i] <= 5):\n",
    "            reviews_sht.range(f'A{i+2}').expand('right').color = (255, 0, 0)\n",
    "        # Проверяем, что соответствующий рецепт имеется на листе Рецепты\n",
    "        elif not (recipes[i] in recipes_sht.range('B2').expand('down').value):\n",
    "            reviews_sht.range(f'A{i+2}').expand('right').color = (255, 0, 0)\n",
    "\n",
    "validate()"
   ]
  },
  {
   "cell_type": "markdown",
   "metadata": {},
   "source": [
    "9. В файле `recipes_model.csv` находится модель данных предметной области \"рецепты\". При помощи пакета `csv` считайте эти данные. При помощи пакета `xlwings` запишите данные на лист `Модель` книги `recipes_model.xlsx`, начиная с ячейки `A2`, не используя циклы. Сделайте скриншот текущего состояния листа и прикрепите в ячейку ноутбука. "
   ]
  },
  {
   "cell_type": "code",
   "execution_count": null,
   "metadata": {},
   "outputs": [],
   "source": [
    "import csv\n",
    "text = []\n",
    "with open('recipes_model.csv', encoding='utf-8') as f:\n",
    "    reader = csv.reader(f, delimiter='\\t')\n",
    "    for row in reader:\n",
    "        text.append(row)\n",
    "        \n",
    "wb = xw.Book()\n",
    "model = wb.sheets[0]\n",
    "model.name = 'Модель'\n",
    "model.range('A2').value = text\n",
    "wb.save('recipes_model.xlsx')"
   ]
  },
  {
   "cell_type": "markdown",
   "metadata": {},
   "source": [
    "![title](img/1.png)"
   ]
  },
  {
   "cell_type": "markdown",
   "metadata": {},
   "source": [
    "10. При помощи пакета `xlwings` добавьте в столбец J формулу для описания столбца на языке SQL. Формула должна реализовывать следующую логику:\n",
    "\n",
    "    1\\. в начале строки идут значения из столбцов В и C (значение столбца С приведено к верхнему регистру), разделенные пробелом\n",
    "    \n",
    "    2\\. далее идут слова на основе столбца \"Ключ\"\n",
    "        2.1 если в столбце \"Ключ\" указано значение \"PK\", то дальше через пробел идет ключевое слово \"PRIMARY KEY\"\n",
    "        2.2 если в столбце \"Ключ\" указано значение \"FK\", то дальше через пробел идет ключевое слово \"REFERENCES\", затем значения столбцов H и I в формате \"название_таблицы(название_столбца)\"\n",
    "        \n",
    "    3\\. если в столбце \"Обязательно к заполнению\" указано значение \"Y\" и в столбце \"Ключ\" указано не \"PK\", то дальше через пробел идет ключевое слово \"NOT NULL\".\n",
    "\n",
    "Заполните этой формулой необходимое количество строк, используя \"протягивание\". Количество строк для протягивания определите на основе данных.\n",
    "\n",
    "Сделайте скриншот текущего состояния листа и прикрепите в ячейку ноутбука."
   ]
  },
  {
   "cell_type": "code",
   "execution_count": 18,
   "metadata": {},
   "outputs": [],
   "source": [
    "formula = '=CONCAT(B2,\" \", UPPER(C2), \" \", IF(G2=\"PK\", \"PRIMARY  KEY\", IF(G2=\"FK\", CONCAT(\"REFERENCES\", \" \", H2, \"(\", I2, \")\"),)), \" \", IF(AND(D2=\"Y\", G2<>\"PK\"), \"NOT NULL\",))'\n",
    "model.range('J2:J18').formula = formula"
   ]
  },
  {
   "cell_type": "markdown",
   "metadata": {},
   "source": [
    "![title](img/2.png)"
   ]
  },
  {
   "cell_type": "markdown",
   "metadata": {},
   "source": [
    "11. При помощи пакета `xlwings` измените стилизацию листа `Модель`.\n",
    "* для заголовков добавьте заливку цвета `00ccff`\n",
    "* примените автоподбор ширины столбца;\n",
    "* сделайте шрифт заголовков полужирным;\n",
    "* добавьте таблице автофильтр.\n",
    "\n",
    "Сделайте скриншот текущего состояния листа и прикрепите в ячейку ноутбука."
   ]
  },
  {
   "cell_type": "code",
   "execution_count": 19,
   "metadata": {},
   "outputs": [],
   "source": [
    "titles = ['Таблица', 'Атрибут', 'Тип', 'Обязательно к выполнению', 'Название таблицы', 'Название атрибута', 'Ключ', 'Родительское таблица', 'Внешний ключ', 'SQL']\n",
    "model.range('A1').value = titles\n",
    "model.range('A1').expand('right').color = '#00ccff'\n",
    "model.autofit('c')\n",
    "model.range(\"A1\").expand(\"right\").font.bold = True\n",
    "model.show_autofilter = True"
   ]
  },
  {
   "cell_type": "markdown",
   "metadata": {},
   "source": [
    "![title](img/3.png)"
   ]
  },
  {
   "cell_type": "markdown",
   "metadata": {},
   "source": [
    "12. Посчитайте количество атрибутов для каждой из сущностей. Создайте лист `Статистика` и запишите в него результат группировки, начиная с ячейки \"А1\". Визуализируйте полученный результат при помощи столбчатой диаграммы. Сохраните полученную визуализацию на лист `Статистика`, начиная с ячейки \"E2\".  Сделайте скриншот листа `Статистика` и прикрепите в ячейку ноутбука.\n",
    "\n",
    "* Вы можете воспользоваться методами для визуализации, которые поставляются вместе с объектами `pandas` (см. https://pandas.pydata.org/docs/reference/api/pandas.DataFrame.plot) "
   ]
  },
  {
   "cell_type": "code",
   "execution_count": 20,
   "metadata": {},
   "outputs": [],
   "source": [
    "tables = model.range('A2').expand('down').value\n",
    "atributes = model.range('B2').expand('down').value\n",
    "dataframe = pd.DataFrame({'Сущность':tables, 'Атрибут':atributes})\n",
    "dataframe = dataframe.groupby('Сущность').count()\n",
    "stats = wb.sheets.add('Статистика')"
   ]
  },
  {
   "cell_type": "code",
   "execution_count": 21,
   "metadata": {},
   "outputs": [
    {
     "data": {
      "image/png": "[encoded data removed]",
      "text/plain": [
       "<Figure size 640x480 with 1 Axes>"
      ]
     },
     "metadata": {},
     "output_type": "display_data"
    }
   ],
   "source": [
    "stats.range('A1').value = dataframe\n",
    "image = dataframe.plot.bar()"
   ]
  },
  {
   "cell_type": "markdown",
   "metadata": {},
   "source": [
    "![title](img/4.png)"
   ]
  }
 ],
 "metadata": {
  "kernelspec": {
   "display_name": "Python 3 (ipykernel)",
   "language": "python",
   "name": "python3"
  },
  "language_info": {
   "codemirror_mode": {
    "name": "ipython",
    "version": 3
   },
   "file_extension": ".py",
   "mimetype": "text/x-python",
   "name": "python",
   "nbconvert_exporter": "python",
   "pygments_lexer": "ipython3",
   "version": "3.9.13"
  }
 },
 "nbformat": 4,
 "nbformat_minor": 4
}
